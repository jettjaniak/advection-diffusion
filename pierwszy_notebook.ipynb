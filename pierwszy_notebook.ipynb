{
 "cells": [
  {
   "cell_type": "code",
   "execution_count": 1,
   "metadata": {},
   "outputs": [],
   "source": [
    "%matplotlib inline\n",
    "import matplotlib.pyplot as plt"
   ]
  },
  {
   "cell_type": "code",
   "execution_count": 2,
   "metadata": {},
   "outputs": [],
   "source": [
    "import numpy as np\n",
    "from fdm import derivative_matrix\n",
    "from fdm_integrals import backward_euler_int, trapezoids_int\n",
    "from numerical_integral import compute_integral\n",
    "from rates import make_b, make_sigma2\n",
    "from params import ex_params_1"
   ]
  },
  {
   "cell_type": "code",
   "execution_count": 3,
   "metadata": {},
   "outputs": [],
   "source": [
    "b = make_b(ex_params_1)\n",
    "sigma2 = make_sigma2(ex_params_1)"
   ]
  },
  {
   "cell_type": "code",
   "execution_count": 81,
   "metadata": {},
   "outputs": [],
   "source": [
    "# Parametry dla rozwiązywania RRCz\n",
    "n = 1000                   # liczba kroków w przestrzeni\n",
    "h = ex_params_1.n_star/n   # dł. kroku w przestrzeni\n",
    "tau = 0.1                  # dł. kroku w czasie\n",
    "tol = 10**-12               # tolerancja w całkowaniu funkcji u\n",
    "\n",
    "# Dla numerycznego obliczania wartości oczekiwanej bierzemy mniejszy krok\n",
    "int_step = h / 10\n",
    "int_n = n * 10"
   ]
  },
  {
   "cell_type": "code",
   "execution_count": 82,
   "metadata": {},
   "outputs": [],
   "source": [
    "# Obliczamy numerycznie wartość oczekiwaną\n",
    "num_int_linspace, num_int = compute_integral(int_step, int_n, ex_params_1)"
   ]
  },
  {
   "cell_type": "code",
   "execution_count": 83,
   "metadata": {},
   "outputs": [
    {
     "name": "stdout",
     "output_type": "stream",
     "text": [
      "Zakończono całkowanie w momencie 2222.0, po 22220 iteracji.\n",
      "Zakończono całkowanie w momencie 6330.5, po 63305 iteracji.\n"
     ]
    }
   ],
   "source": [
    "# Całkujemy w locie funkcje otrzymanie z rozwiązywania RRCz\n",
    "d_m, special = derivative_matrix(b, sigma2, h, n)\n",
    "u_0 = np.ones(n)\n",
    "int_u_euler = backward_euler_int(u_0, d_m, tau, tol)\n",
    "#int_u_trapezoids = trapezoids_int(u_0, d_m, special, tau, tol)"
   ]
  },
  {
   "cell_type": "code",
   "execution_count": 84,
   "metadata": {},
   "outputs": [],
   "source": [
    "pde_linspace = np.linspace(0, ex_params_1.n_star-h, len(int_u_euler))"
   ]
  },
  {
   "cell_type": "code",
   "execution_count": 85,
   "metadata": {},
   "outputs": [
    {
     "data": {
      "text/plain": [
       "True"
      ]
     },
     "execution_count": 85,
     "metadata": {},
     "output_type": "execute_result"
    }
   ],
   "source": [
    "# Sprawdzam które elementy w numerycznej wartości oczekiwanej\n",
    "# i w całce z rozwiązania RRCz sobie odpowiadają\n",
    "np.allclose(num_int_linspace[9::10][:-1], pde_linspace[1:])"
   ]
  },
  {
   "cell_type": "code",
   "execution_count": 86,
   "metadata": {},
   "outputs": [],
   "source": [
    "# Przycinam wyniki\n",
    "linspace = num_int_linspace[9::10][:-1]\n",
    "num_int = num_int[9::10][:-1]\n",
    "int_u_euler = int_u_euler[1:]\n",
    "int_u_trapezoids = int_u_trapezoids[1:]"
   ]
  },
  {
   "cell_type": "code",
   "execution_count": 88,
   "metadata": {},
   "outputs": [
    {
     "data": {
      "text/plain": [
       "<matplotlib.legend.Legend at 0x184b284ebe0>"
      ]
     },
     "execution_count": 88,
     "metadata": {},
     "output_type": "execute_result"
    },
    {
     "data": {
      "image/png": "[encoded data removed]",
      "text/plain": [
       "<Figure size 432x288 with 1 Axes>"
      ]
     },
     "metadata": {
      "needs_background": "light"
     },
     "output_type": "display_data"
    }
   ],
   "source": [
    "plt.plot(linspace, int_u_euler)\n",
    "#plt.plot(linspace, int_u_trapezoids)\n",
    "plt.plot(linspace, num_int)\n",
    "plt.legend([\"Całka z backward Euler\", \"Numeryczna wartość oczekiwana\"])"
   ]
  },
  {
   "cell_type": "code",
   "execution_count": 89,
   "metadata": {},
   "outputs": [
    {
     "data": {
      "text/plain": [
       "172.6196322147001"
      ]
     },
     "execution_count": 89,
     "metadata": {},
     "output_type": "execute_result"
    }
   ],
   "source": [
    "np.mean((num_int-int_u_euler)**2)"
   ]
  },
  {
   "cell_type": "code",
   "execution_count": null,
   "metadata": {},
   "outputs": [],
   "source": []
  },
  {
   "cell_type": "code",
   "execution_count": null,
   "metadata": {},
   "outputs": [],
   "source": []
  }
 ],
 "metadata": {
  "kernelspec": {
   "display_name": "Python [conda env:advection-diffusion]",
   "language": "python",
   "name": "conda-env-advection-diffusion-py"
  },
  "language_info": {
   "codemirror_mode": {
    "name": "ipython",
    "version": 3
   },
   "file_extension": ".py",
   "mimetype": "text/x-python",
   "name": "python",
   "nbconvert_exporter": "python",
   "pygments_lexer": "ipython3",
   "version": "3.6.8"
  }
 },
 "nbformat": 4,
 "nbformat_minor": 2
}
